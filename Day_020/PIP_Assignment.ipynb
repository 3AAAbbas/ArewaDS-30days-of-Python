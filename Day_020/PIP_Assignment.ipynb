{
 "cells": [
  {
   "cell_type": "markdown",
   "metadata": {},
   "source": [
    "# **Day 20: 30 Days of python programming**"
   ]
  },
  {
   "cell_type": "markdown",
   "metadata": {},
   "source": [
    "### 1. Read this url and find the 10 most frequent words. romeo_and_juliet = 'http://www.gutenberg.org/files/1112/1112.txt'\n"
   ]
  },
  {
   "cell_type": "code",
   "execution_count": null,
   "metadata": {},
   "outputs": [],
   "source": [
    "import re\n",
    "import requests\n",
    "\n",
    "url = 'http://www.gutenberg.org/files/1112/1112.txt'\n",
    "response = requests.get(url)\n",
    "print(f' response object: {response}')\n",
    "print(f' response status code: {response.status_code}')\n",
    "print(f' response headers: {response.headers}')\n",
    "text = response.text\n",
    "text = re.sub(r'[^\\w\\s]','',text)\n",
    "words = text.split()\n",
    "words_dict = {}\n",
    "for word in words:\n",
    "    words_dict[word] = words_dict.get(word,0) + 1\n",
    "words_sorted = sorted(words_dict.items(),key=lambda x:x[1],reverse=True)\n",
    "result = [(word[1],word[0]) for word in words_sorted]"
   ]
  },
  {
   "cell_type": "code",
   "execution_count": null,
   "metadata": {},
   "outputs": [],
   "source": [
    "print(f' result: {result[:10]}')"
   ]
  },
  {
   "cell_type": "markdown",
   "metadata": {},
   "source": [
    "### 2. Read the cats API and cats_api = 'https://api.thecatapi.com/v1/breeds' and find :\n",
    "i. the min, max, mean, median, standard deviation of cats' weight in metric units.\n",
    "\n",
    "ii. the min, max, mean, median, standard deviation of cats' lifespan in years.\n",
    "\n",
    "iii. Create a frequency table of country and breed of cats\n"
   ]
  },
  {
   "cell_type": "code",
   "execution_count": null,
   "metadata": {},
   "outputs": [],
   "source": [
    "cats_api = 'https://api.thecatapi.com/v1/breeds'\n",
    "\n",
    "response = requests.get(cats_api)\n",
    "\n",
    "if response.status_code == 200:\n",
    "    cat_breeds = response.json()\n",
    "else:\n",
    "    print(\"Failed to retrieve information from API\")\n",
    "    \n",
    "'''getting the list of the weights of all the cats in metric units, \n",
    "has upper and lower limits'''\n",
    "cat_weight_metric = []\n",
    "for i in range(len(cat_breeds)):\n",
    "  cat_weight_metric.append(cat_breeds[i]['weight']['metric'])\n",
    "cat_weight_metric[:5]\n",
    "\n",
    "cat_weight_lifespan = []\n",
    "for i in range(len(cat_breeds)):\n",
    "  cat_weight_lifespan.append(cat_breeds[i]['life_span'])\n",
    "cat_weight_lifespan[:5]\n",
    "\n",
    "def convert_to_numbers(string):\n",
    "    start, end = map(int, string.split(\" - \"))\n",
    "    return start, end\n",
    "\n",
    "cat_weight_metric_number = list(map(convert_to_numbers,cat_weight_metric))\n",
    "lower_cat_weight_metric,upper_cat_weight_metric = [i[0] for i in cat_weight_metric_number],[i[1]for i in cat_weight_metric_number]\n",
    "\n",
    "cat_lifespan_number = list(map(convert_to_numbers,cat_weight_lifespan))\n",
    "lower_cat_lifespan,upper_cat_lifespan = [i[0] for i in cat_lifespan_number],[i[1]for i in cat_lifespan_number]\n",
    "\n"
   ]
  },
  {
   "cell_type": "code",
   "execution_count": null,
   "metadata": {},
   "outputs": [],
   "source": [
    "import statistics as stats\n",
    "print(f'Max of upper limit of cat\\'s weights in metric units is: {max(upper_cat_weight_metric)} ')\n",
    "print(f'Min of upper limit of cat\\'s weights in metric units is: {min(upper_cat_weight_metric)} ')\n",
    "print(f'Mean of upper limit of cat\\'s weights in metric units is: {stats.mean(upper_cat_weight_metric)} ')\n",
    "print(f'Median of upper limit of cat\\'s weights in metric units is: {stats.median(upper_cat_weight_metric)} ')\n",
    "print(f'Std of upper limit of cat\\'s weights in metric units is: {stats.stdev(upper_cat_weight_metric)} ')\n",
    "\n",
    "\n",
    "def stats_params(list):\n",
    "    '''\n",
    "    Takes a list and returns a dictionary of certain statistics parameters of the list\n",
    "    '''\n",
    "    import statistics as stats\n",
    "    stat = {}\n",
    "    stat['Max'] = max(list)\n",
    "    stat['Minimum'] = min(list)\n",
    "    stat['Mean'] = stats.mean(list)\n",
    "    stat['Median'] = stats.median(list)\n",
    "    stat['std'] = stats.stdev(list)\n",
    "    return stat\n",
    "print(stats_params(upper_cat_weight_metric))"
   ]
  },
  {
   "cell_type": "code",
   "execution_count": null,
   "metadata": {},
   "outputs": [],
   "source": [
    "answer_dict = {}\n",
    "answer_dict['Upper limit stats of cat weights in metric units'] = stats_params(upper_cat_weight_metric)\n",
    "answer_dict['Lower limit stats of cat weights in metric units'] = stats_params(lower_cat_weight_metric)\n",
    "answer_dict['Upper limit stat of cat lifespan in years'] = stats_params(upper_cat_lifespan)\n",
    "answer_dict['Lower limit stats of cat lifespan in years'] = stats_params(lower_cat_lifespan)\n",
    "print(f'Answer to first two sub questions of question 2: {answer_dict}')"
   ]
  },
  {
   "cell_type": "code",
   "execution_count": null,
   "metadata": {},
   "outputs": [],
   "source": [
    "from collections import defaultdict\n",
    "\n",
    "frequency_table = defaultdict(int)\n",
    "breed_info = {}\n",
    "for breed in cat_breeds:\n",
    "    breed_info[breed['name']] = breed['origin']\n",
    "for breed in breed_info.values():\n",
    "    frequency_table[breed] += 1\n",
    "\n",
    "print(frequency_table)"
   ]
  },
  {
   "cell_type": "markdown",
   "metadata": {},
   "source": [
    "### 3. Read the countries API and find\n",
    "i. the 10 largest countries\n",
    "\n",
    "ii. the 10 most spoken languages\n",
    "\n",
    "iii. the total number of languages in the countries API\n"
   ]
  },
  {
   "cell_type": "code",
   "execution_count": null,
   "metadata": {},
   "outputs": [],
   "source": [
    "import requests\n",
    "\n",
    "def get_countries_data():\n",
    "    api_url =   \n",
    "    response = requests.get(api_url)\n",
    "    \n",
    "    if response.status_code == 200:\n",
    "        countries_data = response.json()\n",
    "        return countries_data\n",
    "    else:\n",
    "        print(f\"Failed to retrieve data. Status code: {response.status_code}\")\n",
    "        return None"
   ]
  },
  {
   "cell_type": "markdown",
   "metadata": {},
   "source": [
    "### 4. UCI is one of the most common places to get data sets for data science and machine learning. Read the content of UCL (https://archive.ics.uci.edu/ml/datasets.php). Without additional libraries it will be difficult, so you may try it with BeautifulSoup4"
   ]
  },
  {
   "cell_type": "code",
   "execution_count": null,
   "metadata": {},
   "outputs": [],
   "source": [
    "import requests\n",
    "from bs4 import BeautifulSoup\n",
    "\n",
    "url = 'https://archive.ics.uci.edu/ml/datasets.php'"
   ]
  },
  {
   "cell_type": "markdown",
   "metadata": {},
   "source": [
    "- Send a GET request"
   ]
  },
  {
   "cell_type": "code",
   "execution_count": null,
   "metadata": {},
   "outputs": [],
   "source": [
    "response = requests.get(url)\n",
    "html_content = response.content"
   ]
  },
  {
   "cell_type": "markdown",
   "metadata": {},
   "source": [
    "- Parse the HTML content using BeautifulSoup4"
   ]
  },
  {
   "cell_type": "code",
   "execution_count": null,
   "metadata": {},
   "outputs": [],
   "source": [
    "soup = BeautifulSoup(html_content, 'html.parser')"
   ]
  },
  {
   "cell_type": "markdown",
   "metadata": {},
   "source": [
    "- Find the table that contains the list of data sets"
   ]
  },
  {
   "cell_type": "code",
   "execution_count": null,
   "metadata": {},
   "outputs": [],
   "source": [
    "table = soup.find('table', {'border': '1'})"
   ]
  },
  {
   "cell_type": "markdown",
   "metadata": {},
   "source": [
    "- Extract the name of each data set from the table rows, for now, a humble goal due to my current limited skills"
   ]
  },
  {
   "cell_type": "code",
   "execution_count": null,
   "metadata": {},
   "outputs": [],
   "source": [
    "rows = table.find_all('tr')[1:]\n",
    "for row in rows:\n",
    "    cells = row.find_all('td')\n",
    "    name = cells[0].text.strip()"
   ]
  },
  {
   "cell_type": "markdown",
   "metadata": {},
   "source": [
    "- Gives the names of all the datasets in the table    "
   ]
  },
  {
   "cell_type": "code",
   "execution_count": null,
   "metadata": {},
   "outputs": [],
   "source": [
    "print(f'{name}')"
   ]
  }
 ],
 "metadata": {
  "kernelspec": {
   "display_name": "KHALIPHA.venv",
   "language": "python",
   "name": "python3"
  },
  "language_info": {
   "codemirror_mode": {
    "name": "ipython",
    "version": 3
   },
   "file_extension": ".py",
   "mimetype": "text/x-python",
   "name": "python",
   "nbconvert_exporter": "python",
   "pygments_lexer": "ipython3",
   "version": "3.10.12"
  }
 },
 "nbformat": 4,
 "nbformat_minor": 2
}
