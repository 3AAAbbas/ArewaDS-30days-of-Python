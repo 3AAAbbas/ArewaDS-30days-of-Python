{
 "cells": [
  {
   "cell_type": "markdown",
   "metadata": {},
   "source": [
    "# **Day 12: 30 Days of python programming**"
   ]
  },
  {
   "cell_type": "markdown",
   "metadata": {},
   "source": [
    "# Exercises: Level 1"
   ]
  },
  {
   "cell_type": "markdown",
   "metadata": {},
   "source": [
    "### 1. Write a function which generates a six digit/character random_user_id."
   ]
  },
  {
   "cell_type": "code",
   "execution_count": 1,
   "metadata": {},
   "outputs": [
    {
     "name": "stdout",
     "output_type": "stream",
     "text": [
      " id: EF0lUp\n"
     ]
    }
   ],
   "source": [
    "import random\n",
    "import string\n",
    "def random_user_id():\n",
    "    return \"\".join(str(random.choice(string.ascii_letters + string.digits)) for i in range(6))\n",
    "\n",
    "print(f' id: {random_user_id()}')"
   ]
  },
  {
   "cell_type": "markdown",
   "metadata": {},
   "source": [
    "### 2. Modify the previous task. Declare a function named user_id_gen_by_user. It doesn’t take any parameters but it takes two inputs using input(). One of the inputs is the number of characters and the second input is the number of IDs which are supposed to be generated."
   ]
  },
  {
   "cell_type": "code",
   "execution_count": 2,
   "metadata": {},
   "outputs": [
    {
     "data": {
      "text/plain": [
       "['FFNNx2TSGy', 'WL1lUAayPE']"
      ]
     },
     "execution_count": 2,
     "metadata": {},
     "output_type": "execute_result"
    }
   ],
   "source": [
    "def random_user_id_gen_by_user():\n",
    "    a = int(input(\"Enter the number of characters: \"))\n",
    "    b = int(input(\"Enter the number of IDs: \"))\n",
    "    return [\"\".join(str(random.choice(string.ascii_letters + string.digits)) for i in range(a)) for j in range(b)]\n",
    "\n",
    "random_user_id_gen_by_user()"
   ]
  },
  {
   "cell_type": "markdown",
   "metadata": {},
   "source": [
    "### 3. Write a function named rgb_color_gen. It will generate rgb colors (3 values ranging from 0 to 255 each)."
   ]
  },
  {
   "cell_type": "code",
   "execution_count": 3,
   "metadata": {},
   "outputs": [
    {
     "name": "stdout",
     "output_type": "stream",
     "text": [
      "rgb(240,16,107)\n"
     ]
    }
   ],
   "source": [
    "def rgb_color_gen():\n",
    "    a = ','.join(str(random.randint(0,255)) for i in range(3))\n",
    "    return 'rgb('+ a + ')'\n",
    "\n",
    "print(rgb_color_gen())"
   ]
  },
  {
   "cell_type": "markdown",
   "metadata": {},
   "source": [
    "# Exercises: Level 2"
   ]
  },
  {
   "cell_type": "markdown",
   "metadata": {},
   "source": [
    "### 1. Write a function list_of_hexa_colors which returns any number of hexadecimal colors in an array (six hexadecimal numbers written after #. Hexadecimal numeral system is made out of 16 symbols, 0-9 and first 6 letters of the alphabet, a-f. Check the task 6 for output examples).\n"
   ]
  },
  {
   "cell_type": "code",
   "execution_count": 4,
   "metadata": {},
   "outputs": [
    {
     "data": {
      "text/plain": [
       "['#80b16a', '#0e759d', '#4af195', '#b78e04', '#84d53d', '#5191ba']"
      ]
     },
     "execution_count": 4,
     "metadata": {},
     "output_type": "execute_result"
    }
   ],
   "source": [
    "def list_of_hexa_colors(x):\n",
    "     a= [\"\".join(str(random.choice('abcdef' + string.digits)) for i in range(6)) for j in range(x)]\n",
    "     b =['#' + item for item in a]\n",
    "     return b\n",
    "list_of_hexa_colors(6)"
   ]
  },
  {
   "cell_type": "markdown",
   "metadata": {},
   "source": [
    "### 2. Write a function list_of_rgb_colors which returns any number of RGB colors in an array.\n"
   ]
  },
  {
   "cell_type": "code",
   "execution_count": 5,
   "metadata": {},
   "outputs": [
    {
     "data": {
      "text/plain": [
       "['rgb(43,67,156)',\n",
       " 'rgb(102,249,43)',\n",
       " 'rgb(221,159,92)',\n",
       " 'rgb(93,48,84)',\n",
       " 'rgb(44,120,54)',\n",
       " 'rgb(13,62,68)',\n",
       " 'rgb(226,166,80)']"
      ]
     },
     "execution_count": 5,
     "metadata": {},
     "output_type": "execute_result"
    }
   ],
   "source": [
    "def list_of_rgb_colors(x):\n",
    "    return [rgb_color_gen() for i in range(x)]\n",
    "\n",
    "list_of_rgb_colors(7)"
   ]
  },
  {
   "cell_type": "markdown",
   "metadata": {},
   "source": [
    "### 3. Write a function generate_colors which can generate any number of hexa or rgb colors."
   ]
  },
  {
   "cell_type": "code",
   "execution_count": 6,
   "metadata": {},
   "outputs": [
    {
     "name": "stdout",
     "output_type": "stream",
     "text": [
      "['#b82dbe', '#2a49ee', '#b87f17', '#587f19']\n"
     ]
    }
   ],
   "source": [
    "def generate_colors(fun,x):\n",
    "    if fun == 'hexa':\n",
    "        result = list_of_hexa_colors(x)\n",
    "    elif fun == 'rgb':\n",
    "        result = list_of_rgb_colors(x)\n",
    "\n",
    "    return result\n",
    "\n",
    "\n",
    "print(generate_colors('hexa',4))"
   ]
  },
  {
   "cell_type": "markdown",
   "metadata": {},
   "source": [
    "# Exercises: Level 3"
   ]
  },
  {
   "cell_type": "markdown",
   "metadata": {},
   "source": [
    "### 1. Call your function shuffle_list, it takes a list as a parameter and it returns a shuffled list\n"
   ]
  },
  {
   "cell_type": "code",
   "execution_count": 7,
   "metadata": {},
   "outputs": [
    {
     "name": "stdout",
     "output_type": "stream",
     "text": [
      "[5, 1, 2, 4, 3]\n"
     ]
    }
   ],
   "source": [
    "def shuffle_list(list):\n",
    "    random.shuffle(list)\n",
    "    return list\n",
    "print(shuffle_list([1,2,3,4,5]))"
   ]
  },
  {
   "cell_type": "markdown",
   "metadata": {},
   "source": [
    "### 2. Write a function which returns an array of seven random numbers in a range of 0-9. All the numbers must be unique."
   ]
  },
  {
   "cell_type": "code",
   "execution_count": 8,
   "metadata": {},
   "outputs": [
    {
     "name": "stdout",
     "output_type": "stream",
     "text": [
      "[6, 3, 0, 7, 9, 1, 5]\n"
     ]
    }
   ],
   "source": [
    "def unique_random_nums():\n",
    "    return random.sample([0,1,2,3,4,5,6,7,8,9],k=7)\n",
    "\n",
    "print(unique_random_nums())"
   ]
  },
  {
   "cell_type": "markdown",
   "metadata": {},
   "source": []
  }
 ],
 "metadata": {
  "kernelspec": {
   "display_name": "KHALIPHA.venv",
   "language": "python",
   "name": "python3"
  },
  "language_info": {
   "codemirror_mode": {
    "name": "ipython",
    "version": 3
   },
   "file_extension": ".py",
   "mimetype": "text/x-python",
   "name": "python",
   "nbconvert_exporter": "python",
   "pygments_lexer": "ipython3",
   "version": "3.10.12"
  }
 },
 "nbformat": 4,
 "nbformat_minor": 2
}
