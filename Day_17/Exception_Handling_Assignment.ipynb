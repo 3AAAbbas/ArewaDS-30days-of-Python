{
 "cells": [
  {
   "cell_type": "markdown",
   "metadata": {},
   "source": [
    "# **Day 17: 30 Days of python programming**"
   ]
  },
  {
   "cell_type": "markdown",
   "metadata": {},
   "source": [
    "### 1. names = ['Finland', 'Sweden', 'Norway','Denmark','Iceland', 'Estonia','Russia'].\n",
    "\n",
    "Unpack the first five countries and store them in a variable nordic_countries, store Estonia and Russia in es, and ru respectively"
   ]
  },
  {
   "cell_type": "code",
   "execution_count": null,
   "metadata": {},
   "outputs": [],
   "source": []
  }
 ],
 "metadata": {
  "language_info": {
   "name": "python"
  }
 },
 "nbformat": 4,
 "nbformat_minor": 2
}
