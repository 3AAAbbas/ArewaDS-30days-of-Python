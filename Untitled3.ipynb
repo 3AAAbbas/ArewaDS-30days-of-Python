{
  "nbformat": 4,
  "nbformat_minor": 0,
  "metadata": {
    "colab": {
      "provenance": [],
      "toc_visible": true,
      "authorship_tag": "ABX9TyNvEApaohejRIzFtDmStdeE"
    },
    "kernelspec": {
      "name": "python3",
      "display_name": "Python 3"
    },
    "language_info": {
      "name": "python"
    }
  },
  "cells": [
    {
      "cell_type": "code",
      "execution_count": null,
      "metadata": {
        "id": "vi4ddFbnqX0K"
      },
      "outputs": [],
      "source": []
    }
  ]
}