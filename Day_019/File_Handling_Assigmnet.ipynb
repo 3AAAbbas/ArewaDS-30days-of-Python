{
 "cells": [
  {
   "cell_type": "markdown",
   "metadata": {},
   "source": [
    "# **Day 19: 30 Days of python programming**"
   ]
  },
  {
   "cell_type": "markdown",
   "metadata": {},
   "source": [
    "# Exercise: Level 0ne"
   ]
  },
  {
   "cell_type": "markdown",
   "metadata": {},
   "source": [
    "### 1. Write a function which count number of lines and number of words in a text. All the files are in the data the folder:\n",
    " a) Read obama_speech.txt file and count number of lines and words \n",
    " \n",
    " b) Read michelle_obama_speech.txt file and count number of lines and words \n",
    " \n",
    " c) Read donald_speech.txt file and count number of lines and words \n",
    " \n",
    " d) Read melina_trump_speech.txt file and count number of lines and words"
   ]
  },
  {
   "cell_type": "markdown",
   "metadata": {},
   "source": [
    "- Import Libraries"
   ]
  },
  {
   "cell_type": "code",
   "execution_count": null,
   "metadata": {},
   "outputs": [],
   "source": [
    "import re\n",
    "import json\n",
    "import csv"
   ]
  },
  {
   "cell_type": "code",
   "execution_count": null,
   "metadata": {},
   "outputs": [],
   "source": [
    "def count_words_lines(file):\n",
    "    '''Counts the number of lines and words in a file'''\n",
    "    with open(file) as f:\n",
    "        lines = f.readlines()\n",
    "        words = []\n",
    "        for line in lines:\n",
    "            line = re.sub(r'[^\\w\\s]','',line)\n",
    "            words.extend(line.split())\n",
    "    print(f'The number of lines and words in the file are {len(lines)} and {len(words)} respectively')\n",
    "count_words_lines('melania_trump_speech.txt')\n",
    "count_words_lines('donald_speech.txt')\n",
    "count_words_lines('michelle_obama_speech.txt')\n",
    "count_words_lines('obama_speech.txt')"
   ]
  },
  {
   "cell_type": "markdown",
   "metadata": {},
   "source": [
    "### 2. Read the countries_data.json data file in data directory, create a function that finds the ten most spoken languages"
   ]
  },
  {
   "cell_type": "markdown",
   "metadata": {},
   "source": [
    "- Your output should look like this"
   ]
  },
  {
   "cell_type": "code",
   "execution_count": null,
   "metadata": {},
   "outputs": [],
   "source": [
    "print(most_spoken_languages(filename='./data/countries_data.json', 10))\n",
    "[(91, 'English'),\n",
    "(45, 'French'),\n",
    "(25, 'Arabic'),\n",
    "(24, 'Spanish'),\n",
    "(9, 'Russian'),\n",
    "(9, 'Portuguese'),\n",
    "(8, 'Dutch'),\n",
    "(7, 'German'),\n",
    "(5, 'Chinese'),\n",
    "(4, 'Swahili'),\n",
    "(4, 'Serbian')]"
   ]
  },
  {
   "cell_type": "markdown",
   "metadata": {},
   "source": [
    "- Your output should look like this"
   ]
  },
  {
   "cell_type": "code",
   "execution_count": null,
   "metadata": {},
   "outputs": [],
   "source": [
    "print(most_spoken_languages(filename='./data/countries_data.json', 3))\n",
    "[(91, 'English'),\n",
    "(45, 'French'),\n",
    "(25, 'Arabic')]"
   ]
  },
  {
   "cell_type": "code",
   "execution_count": null,
   "metadata": {},
   "outputs": [],
   "source": [
    "def most_spoken_languages(file,n):\n",
    "    '''\n",
    "    Takes a filepath and an integer,n as arguments and returns the n most spoken languages in the world\n",
    "    '''\n",
    "    with open(file) as f:\n",
    "        list = json.loads(f.read())\n",
    "\n",
    "    languages = []\n",
    "    for i in range(len(list)):\n",
    "        languages.extend(list[i]['languages'])\n",
    "    lang = {}\n",
    "    for language in languages:\n",
    "        lang[language] = lang.get(language,0) + 1\n",
    "    sorted_lang = sorted(lang.items(), key= lambda x:x[1],reverse=True) \n",
    "    result = [(item[1],item[0]) for item in sorted_lang]\n",
    "    return result[:n]\n",
    "print(most_spoken_languages('countries_data.json',10))\n",
    "print(most_spoken_languages('countries_data.json',3))"
   ]
  },
  {
   "cell_type": "markdown",
   "metadata": {},
   "source": [
    "### 3. Read the countries_data.json data file in data directory, create a function that creates a list of the ten most populated countries"
   ]
  },
  {
   "cell_type": "code",
   "execution_count": null,
   "metadata": {},
   "outputs": [],
   "source": [
    "# Your output should look like this\n",
    "print(most_populated_countries(filename='./data/countries_data.json', 10))\n",
    "\n",
    "[\n",
    "{'country': 'China', 'population': 1377422166},\n",
    "{'country': 'India', 'population': 1295210000},\n",
    "{'country': 'United States of America', 'population': 323947000},\n",
    "{'country': 'Indonesia', 'population': 258705000},\n",
    "{'country': 'Brazil', 'population': 206135893},\n",
    "{'country': 'Pakistan', 'population': 194125062},\n",
    "{'country': 'Nigeria', 'population': 186988000},\n",
    "{'country': 'Bangladesh', 'population': 161006790},\n",
    "{'country': 'Russian Federation', 'population': 146599183},\n",
    "{'country': 'Japan', 'population': 126960000}\n",
    "]\n",
    "\n",
    "# Your output should look like this\n",
    "\n",
    "print(most_populated_countries(filename='./data/countries_data.json', 3))\n",
    "[\n",
    "{'country': 'China', 'population': 1377422166},\n",
    "{'country': 'India', 'population': 1295210000},\n",
    "{'country': 'United States of America', 'population': 323947000}\n",
    "]"
   ]
  },
  {
   "cell_type": "code",
   "execution_count": null,
   "metadata": {},
   "outputs": [],
   "source": [
    "def most_populated_countries(filename,n):\n",
    "    '''\n",
    "    Takes a file path and an integer,n as arguments and returns the n most populated countries in the world\n",
    "    '''\n",
    "    with open(filename) as f:\n",
    "        dic_list = json.loads(f.read())\n",
    "    population = dict()\n",
    "    for i in range(len(dic_list)):\n",
    "        keys = dic_list[i]['name']\n",
    "        values = dic_list[i]['population']\n",
    "        population[keys] = values"
   ]
  },
  {
   "cell_type": "markdown",
   "metadata": {},
   "source": [
    "- List of the ten most populated countries"
   ]
  },
  {
   "cell_type": "code",
   "execution_count": null,
   "metadata": {},
   "outputs": [],
   "source": [
    "sorted_lt = sorted(population.items(), key= lambda x:x[1],reverse=True)\n",
    "final_list = [{'country':item[0],'population':item[1]} for item in sorted_lt]\n",
    "return final_list[:n]\n",
    "\n",
    "most_populated_countries('countries_data.json',10)"
   ]
  },
  {
   "cell_type": "markdown",
   "metadata": {},
   "source": [
    "# Exercises: Level Two\n"
   ]
  },
  {
   "cell_type": "markdown",
   "metadata": {},
   "source": [
    "### 4. Extract all incoming email addresses as a list from the email_exchange_big.txt file.\n"
   ]
  },
  {
   "cell_type": "code",
   "execution_count": null,
   "metadata": {},
   "outputs": [],
   "source": [
    "with open('email_exhange_big.txt') as f:\n",
    "    lines = f.readlines()\n",
    "email_addresses = []\n",
    "for line in lines:\n",
    "    email_addresses.extend(re.findall('[a-zA-Z0-9]\\S*@\\S*[a-zA-Z]', line))\n",
    "email_addresses[:]"
   ]
  },
  {
   "cell_type": "markdown",
   "metadata": {},
   "source": [
    "### 5. Find the most common words in the English language. Call the name of your function find_most_common_words, it will take two parameters - a string or a file and a positive integer, indicating the number of words. Your function will return an array of tuples in descending order. Check the output"
   ]
  },
  {
   "cell_type": "markdown",
   "metadata": {},
   "source": [
    "- Your output should look like this\n"
   ]
  },
  {
   "cell_type": "code",
   "execution_count": null,
   "metadata": {},
   "outputs": [],
   "source": [
    "print(find_most_common_words('sample.txt', 10))\n",
    "[(10, 'the'),\n",
    "(8, 'be'),\n",
    "(6, 'to'),\n",
    "(6, 'of'),\n",
    "(5, 'and'),\n",
    "(4, 'a'),\n",
    "(4, 'in'),\n",
    "(3, 'that'),\n",
    "(2, 'have'),\n",
    "(2, 'I')]"
   ]
  },
  {
   "cell_type": "markdown",
   "metadata": {},
   "source": [
    "- Your output should look like this"
   ]
  },
  {
   "cell_type": "code",
   "execution_count": null,
   "metadata": {},
   "outputs": [],
   "source": [
    "print(find_most_common_words('sample.txt', 5))\n",
    "[(10, 'the'),\n",
    "(8, 'be'),\n",
    "(6, 'to'),\n",
    "(6, 'of'),\n",
    "(5, 'and')]"
   ]
  },
  {
   "cell_type": "code",
   "execution_count": null,
   "metadata": {},
   "outputs": [],
   "source": [
    "def find_most_common_words(file,n=10):\n",
    "    '''\n",
    "    Returns a list of tuples showing the count of the n most common words in the document, file\n",
    "    '''\n",
    "    with open(file) as f:\n",
    "        lines = f.readlines()\n",
    "    words = []\n",
    "    for line in lines:\n",
    "        line = re.sub(r'[^\\w\\s]','',line)\n",
    "       \n",
    "        words.extend(line.split())\n",
    "    words_dict = {}\n",
    "    for word in words:\n",
    "        words_dict[word] = words_dict.get(word,0) + 1\n",
    "    words_sorted = sorted(words_dict.items(),key=lambda x:x[1],reverse=True)\n",
    "    result = [(word[1],word[0]) for word in words_sorted]\n",
    "    return result[:n]\n",
    "\n",
    "find_most_common_words('donald_speech.txt',5)"
   ]
  },
  {
   "cell_type": "markdown",
   "metadata": {},
   "source": [
    "### 6. Use the function, find_most_frequent_words to find: \n",
    "a) The ten most frequent words used in Obama's speech \n"
   ]
  },
  {
   "cell_type": "code",
   "execution_count": null,
   "metadata": {},
   "outputs": [],
   "source": [
    "print('Obama: ',find_most_common_words('obama_speech.txt')) "
   ]
  },
  {
   "cell_type": "markdown",
   "metadata": {},
   "source": [
    "\n",
    "b) The ten most frequent words used in Michelle's speech \n",
    "\n"
   ]
  },
  {
   "cell_type": "code",
   "execution_count": null,
   "metadata": {},
   "outputs": [],
   "source": [
    "print('Michelle: ',find_most_common_words('michelle_obama_speech.txt'))"
   ]
  },
  {
   "cell_type": "markdown",
   "metadata": {},
   "source": [
    "c) The ten most frequent words used in Trump's speech \n",
    "\n"
   ]
  },
  {
   "cell_type": "code",
   "execution_count": null,
   "metadata": {},
   "outputs": [],
   "source": [
    "print('Trump: ',find_most_common_words('donald_speech.txt'))"
   ]
  },
  {
   "cell_type": "markdown",
   "metadata": {},
   "source": [
    "d) The ten most frequent words used in Melina's speech\n"
   ]
  },
  {
   "cell_type": "code",
   "execution_count": null,
   "metadata": {},
   "outputs": [],
   "source": [
    "print('Melania: ',find_most_common_words('melania_trump_speech.txt'))"
   ]
  },
  {
   "cell_type": "markdown",
   "metadata": {},
   "source": [
    "### 7. Write a python application that checks similarity between two texts. It takes a file or a string as a parameter and it will evaluate the similarity of the two texts. For instance check the similarity between the transcripts of Michelle's and Melina's speech. You may need a couple of functions, function to clean the text(clean_text), function to remove support words(remove_support_words) and finally to check the similarity(check_text_similarity). List of stop words are in the data directory\n"
   ]
  },
  {
   "cell_type": "code",
   "execution_count": null,
   "metadata": {},
   "outputs": [],
   "source": [
    "def clean_text(file):\n",
    "    '''\n",
    "    Returns all the words in a text after removing the punctuations and others\n",
    "    '''\n",
    "    with open(file) as f:\n",
    "        lines = f.readlines()\n",
    "        words = []\n",
    "        for line in lines:\n",
    "            line = re.sub(r'[^\\w\\s]','',line)\n",
    "            words.extend(line.split())\n",
    "    return words\n",
    "clean_text('michelle_obama_speech.txt')"
   ]
  },
  {
   "cell_type": "code",
   "execution_count": null,
   "metadata": {},
   "outputs": [],
   "source": [
    "def check_text_similarity(list_one,list_two):\n",
    "    res = [x for x in (list_one + list_two) if x in list_one and x in list_two]\n",
    "    similar_words_percent = (len(res)/(len(list_one) + len(list_two))) * 100\n",
    "    return similar_words_percent\n",
    "check_text_similarity(['apple','banana','mango','pawpaw'],['apple','mango','pear'])"
   ]
  },
  {
   "cell_type": "code",
   "execution_count": null,
   "metadata": {},
   "outputs": [],
   "source": [
    "def comparing_text_in_file_similarity(file_one,file_two):\n",
    "    file_one_words = remove_stop_words(clean_text(file_one))\n",
    "    file_two_words = remove_stop_words(clean_text(file_two))\n",
    "    return check_text_similarity(file_one_words,file_two_words)\n",
    "\n",
    "comparing_text_in_file_similarity('michelle_obama_speech.txt','melania_trump_speech.txt')"
   ]
  },
  {
   "cell_type": "markdown",
   "metadata": {},
   "source": [
    "### 8. Find the 10 most repeated words in the romeo_and_juliet.txt\n"
   ]
  },
  {
   "cell_type": "code",
   "execution_count": null,
   "metadata": {},
   "outputs": [],
   "source": [
    "print('10 most common words in romeo and juliet: ',find_most_common_words('romeo_and_juliet.txt'))"
   ]
  },
  {
   "cell_type": "markdown",
   "metadata": {},
   "source": [
    "### 9. Read the hacker news csv file and find out: \n",
    "a) Count the number of lines containing python or Python \n",
    "\n",
    "b) Count the number lines containing JavaScript, javascript or Javascript \n",
    "\n",
    "c) Count the number lines containing Java and not JavaScript"
   ]
  },
  {
   "cell_type": "code",
   "execution_count": null,
   "metadata": {},
   "outputs": [],
   "source": [
    "with open('hacker_news.csv',newline='') as f:\n",
    "    csv_reader = csv.reader(f,delimiter=',')\n",
    "    python_rows = 0\n",
    "    javascript_rows = 0\n",
    "    java_rows = 0\n",
    "    for row in csv_reader:\n",
    "        for i in range(len(row)):\n",
    "            if re.findall(r'[Pp]ython',row[i]):\n",
    "                python_rows += 1\n",
    "            elif re.findall(r'[Jj]ava[Ss]cript',row[i]):\n",
    "                javascript_rows +=1\n",
    "            elif re.findall(r'Java$',row[i]):\n",
    "                java_rows +=1\n",
    "print(f'the number of lines containing Python/python,Javascrict or Javascrit and Java and not Javascript respectively are: {python_rows}, {javascript_rows} and {java_rows}')"
   ]
  }
 ],
 "metadata": {
  "language_info": {
   "name": "python"
  }
 },
 "nbformat": 4,
 "nbformat_minor": 2
}
