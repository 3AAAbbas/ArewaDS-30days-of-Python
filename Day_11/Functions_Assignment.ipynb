{
 "cells": [
  {
   "cell_type": "markdown",
   "metadata": {},
   "source": [
    "# **Day 11: 30 Days of python programming**"
   ]
  },
  {
   "cell_type": "markdown",
   "metadata": {},
   "source": [
    "# Exercises: Level 1"
   ]
  },
  {
   "cell_type": "markdown",
   "metadata": {},
   "source": [
    "### 1. Declare a function add_two_numbers. It takes two parameters and it returns a sum."
   ]
  },
  {
   "cell_type": "code",
   "execution_count": 1,
   "metadata": {},
   "outputs": [
    {
     "name": "stdout",
     "output_type": "stream",
     "text": [
      "The sum of 3 and 5 is 8\n"
     ]
    }
   ],
   "source": [
    "def add_two_numbers(a,b):\n",
    "  sum = a + b\n",
    "  return sum\n",
    "print(f'The sum of 3 and 5 is {add_two_numbers(3,5)}')"
   ]
  },
  {
   "cell_type": "markdown",
   "metadata": {},
   "source": [
    "### 2. Area of a circle is calculated as follows: area = π x r x r. Write a function that calculates area_of_circle.\n"
   ]
  },
  {
   "cell_type": "code",
   "execution_count": 2,
   "metadata": {},
   "outputs": [
    {
     "name": "stdout",
     "output_type": "stream",
     "text": [
      "The area of a circle of radius 7cm is 153.93804002589985 cm2\n"
     ]
    }
   ],
   "source": [
    "def area_of_circle(r):\n",
    "  import math\n",
    "  area = math.pi * r **2\n",
    "  return area\n",
    "\n",
    "print(f'The area of a circle of radius 7cm is {area_of_circle(7)} cm2')"
   ]
  },
  {
   "cell_type": "markdown",
   "metadata": {},
   "source": [
    "### 3. Write a function called add_all_nums which takes arbitrary number of arguments and sums all the arguments. Check if all the list items are number types. If not do give a reasonable feedback.\n"
   ]
  },
  {
   "cell_type": "code",
   "execution_count": 3,
   "metadata": {},
   "outputs": [
    {
     "name": "stdout",
     "output_type": "stream",
     "text": [
      "The sum of 2,3 and 5 is 10\n"
     ]
    }
   ],
   "source": [
    "def add_all_nums(*x):\n",
    "  sum = 0\n",
    "  for num in x:\n",
    "    if type(num)==int or type(num)==float:\n",
    "      sum +=num\n",
    "    else:\n",
    "      sum = 'Please enter a whole number'\n",
    "  return sum\n",
    "print(f'The sum of 2,3 and 5 is {add_all_nums(2,3,5)}')"
   ]
  },
  {
   "cell_type": "markdown",
   "metadata": {},
   "source": [
    "### 4. Temperature in °C can be converted to °F using this formula: °F = (°C x 9/5) + 32. Write a function which converts °C to °F, convert_celsius_to-fahrenheit."
   ]
  },
  {
   "cell_type": "code",
   "execution_count": 4,
   "metadata": {},
   "outputs": [
    {
     "name": "stdout",
     "output_type": "stream",
     "text": [
      "32 degrees celsius is 89.6 in Fahrenheits\n"
     ]
    }
   ],
   "source": [
    "def convert_celsius_to_fahrenheit(x):\n",
    "  F = x * (9/5) + 32\n",
    "  return F\n",
    "print(f'32 degrees celsius is {convert_celsius_to_fahrenheit(32)} in Fahrenheits')"
   ]
  },
  {
   "cell_type": "markdown",
   "metadata": {},
   "source": [
    "### 5. Write a function called check-season, it takes a month parameter and returns the season: Autumn, Winter, Spring or Summer.\n"
   ]
  },
  {
   "cell_type": "code",
   "execution_count": 5,
   "metadata": {},
   "outputs": [
    {
     "name": "stdout",
     "output_type": "stream",
     "text": [
      "March is in:  Spring\n"
     ]
    }
   ],
   "source": [
    "def check_season(month):\n",
    "  if month in ['September','October','November']:\n",
    "    season = 'Autumn or Fall'\n",
    "  elif month in ['December','January','February']:\n",
    "    season = 'Winter'\n",
    "  elif month in ['March','April','May']:\n",
    "    season = 'Spring'\n",
    "  else: \n",
    "    season = 'Summer'\n",
    "  return season\n",
    "\n",
    "print('March is in: ',check_season('March'))"
   ]
  },
  {
   "cell_type": "markdown",
   "metadata": {},
   "source": [
    "### 6. Write a function called calculate_slope which return the slope of a linear equation"
   ]
  },
  {
   "cell_type": "code",
   "execution_count": 6,
   "metadata": {},
   "outputs": [],
   "source": [
    "def calculate_slope(y,m,c):\n",
    "  return m"
   ]
  },
  {
   "cell_type": "markdown",
   "metadata": {},
   "source": [
    "### 7. Quadratic equation is calculated as follows: ax² + bx + c = 0. Write a function which calculates solution set of a quadratic equation, solve_quadratic_eqn.\n"
   ]
  },
  {
   "cell_type": "code",
   "execution_count": 8,
   "metadata": {},
   "outputs": [
    {
     "name": "stdout",
     "output_type": "stream",
     "text": [
      "The solution set of x2 - 6x + 9 (3.0, 3.0)\n"
     ]
    }
   ],
   "source": [
    "def solve_quadratic_eqn(a,b,c):\n",
    "  x1 = (-b + (b**2 - 4 *a*c)**2)/ (2*a)\n",
    "  x2 = (-b - (b**2 - 4 *a*c)**2)/ (2*a)\n",
    "  return x1,x2\n",
    "print(f'The solution set of x2 - 6x + 9 {solve_quadratic_eqn(1,-6,9)}')"
   ]
  },
  {
   "cell_type": "markdown",
   "metadata": {},
   "source": [
    "### 8. Declare a function named print_list. It takes a list as a parameter and it prints out each element of the list.\n"
   ]
  },
  {
   "cell_type": "code",
   "execution_count": 9,
   "metadata": {},
   "outputs": [
    {
     "name": "stdout",
     "output_type": "stream",
     "text": [
      "Adam\n",
      "Abbas\n",
      "Abba\n"
     ]
    }
   ],
   "source": [
    "def print_list(y):\n",
    "  for i in y:\n",
    "    print(i)\n",
    "print_list(['Adam','Abbas','Abba'])"
   ]
  },
  {
   "cell_type": "markdown",
   "metadata": {},
   "source": [
    "### 9. Declare a function named reverse_list. It takes an array as a parameter and it returns the reverse of the array (use loops).\n",
    " print(reverse_list([1, 2, 3, 4, 5]))\n",
    " \n",
    " [5, 4, 3, 2, 1]\n",
    " \n",
    " print(reverse_list1([\"A\", \"B\", \"C\"]))\n",
    " \n",
    "  [\"C\", \"B\", \"A\"]"
   ]
  },
  {
   "cell_type": "code",
   "execution_count": 11,
   "metadata": {},
   "outputs": [
    {
     "data": {
      "text/plain": [
       "[5, 4, 3, 2, 1]"
      ]
     },
     "execution_count": 11,
     "metadata": {},
     "output_type": "execute_result"
    }
   ],
   "source": [
    "def reverse_list(list):\n",
    "  rev_list = []\n",
    "  for i in range(len(list)-1,-1,-1):\n",
    "    rev_list.append(list[i])\n",
    "  return(rev_list)\n",
    "\n",
    "reverse_list([1,2,3,4,5])\n"
   ]
  },
  {
   "cell_type": "markdown",
   "metadata": {},
   "source": [
    "### 10. Declare a function named capitalize_list_items. It takes a list as a parameter and it returns a capitalized list of items\n"
   ]
  },
  {
   "cell_type": "code",
   "execution_count": 12,
   "metadata": {},
   "outputs": [
    {
     "data": {
      "text/plain": [
       "['AREWA', 'DATA', 'SCIENCE', 'FELLOWSHIP']"
      ]
     },
     "execution_count": 12,
     "metadata": {},
     "output_type": "execute_result"
    }
   ],
   "source": [
    "def capitalize_list_items(list):\n",
    "  cap_list = []\n",
    "  for i in range(len(list)):\n",
    "    cap_list.append(list[i].upper())\n",
    "  return cap_list\n",
    "\n",
    "capitalize_list_items(['arewa','data','science','fellowship'])"
   ]
  },
  {
   "cell_type": "markdown",
   "metadata": {},
   "source": [
    "### 11. Declare a function named add_item. It takes a list and an item parameters. It returns a list with the item added at the end.\n"
   ]
  },
  {
   "cell_type": "markdown",
   "metadata": {},
   "source": [
    "### food_staff = ['Potato', 'Tomato', 'Mango', 'Milk'];\n",
    "\n"
   ]
  },
  {
   "cell_type": "code",
   "execution_count": 18,
   "metadata": {},
   "outputs": [],
   "source": [
    "food_stuff = ['Potato', 'Tomato', 'Mango', 'Milk']"
   ]
  },
  {
   "cell_type": "markdown",
   "metadata": {},
   "source": [
    "### print(add_item(food_staff, 'Meat')) # ['Potato', 'Tomato', 'Mango', 'Milk', 'Meat']\n"
   ]
  },
  {
   "cell_type": "code",
   "execution_count": 25,
   "metadata": {},
   "outputs": [
    {
     "ename": "NameError",
     "evalue": "name 'Add_item' is not defined",
     "output_type": "error",
     "traceback": [
      "\u001b[1;31m---------------------------------------------------------------------------\u001b[0m",
      "\u001b[1;31mNameError\u001b[0m                                 Traceback (most recent call last)",
      "\u001b[1;32md:\\My Learning\\ArewaDS-30days-of-Python\\ArewaDS-30days-of-Python\\Day_11\\Functions_Assignment.ipynb Cell 27\u001b[0m line \u001b[0;36m1\n\u001b[1;32m----> <a href='vscode-notebook-cell:/d%3A/My%20Learning/ArewaDS-30days-of-Python/ArewaDS-30days-of-Python/Day_11/Functions_Assignment.ipynb#X35sZmlsZQ%3D%3D?line=0'>1</a>\u001b[0m Add_item(food_stuff, \u001b[39m'\u001b[39m\u001b[39mMeat\u001b[39m\u001b[39m'\u001b[39m)\n",
      "\u001b[1;31mNameError\u001b[0m: name 'Add_item' is not defined"
     ]
    }
   ],
   "source": [
    "Add_item(food_stuff, 'Meat')"
   ]
  },
  {
   "cell_type": "markdown",
   "metadata": {},
   "source": [
    "### numbers = [2, 3, 7, 9];\n"
   ]
  },
  {
   "cell_type": "code",
   "execution_count": 26,
   "metadata": {},
   "outputs": [],
   "source": [
    "numbers = [2, 3, 7, 9];"
   ]
  },
  {
   "cell_type": "markdown",
   "metadata": {},
   "source": [
    "### print(add_item(numbers, 5)) [2, 3, 7, 9, 5]"
   ]
  },
  {
   "cell_type": "code",
   "execution_count": null,
   "metadata": {},
   "outputs": [],
   "source": [
    "print(add_item(numbers, 5))      [2, 3, 7, 9, 5]\n",
    "def add_item(list,item):\n",
    "  list.append(item)\n",
    "  return list\n",
    "print(add_item(['Facebook','Google'],'Apple'))"
   ]
  },
  {
   "cell_type": "markdown",
   "metadata": {},
   "source": [
    "### 12. Declare a function named remove_item. It takes a list and an item parameters. It returns a list with the item removed from it.\n",
    "food_staff = ['Potato', 'Tomato', 'Mango', 'Milk'];\n",
    "\n",
    "print(remove_item(food_staff, 'Mango')) # ['Potato', 'Tomato', 'Milk'];\n",
    "\n",
    "numbers = [2, 3, 7, 9];\n",
    "\n",
    "print(remove_item(numbers, 3)) # [2, 7, 9]"
   ]
  },
  {
   "cell_type": "code",
   "execution_count": null,
   "metadata": {},
   "outputs": [],
   "source": [
    "food_staff = ['Potato', 'Tomato', 'Mango', 'Milk'];\n",
    "print(remove_item(food_staff, 'Mango'))  \n",
    "numbers = [2, 3, 7, 9];\n",
    "\n",
    "def remove_item(list,item):\n",
    "  if item in list:\n",
    "    list.remove(item)\n",
    "  return list\n",
    "print(remove_item(numbers,3))"
   ]
  },
  {
   "cell_type": "markdown",
   "metadata": {},
   "source": [
    "### 13. Declare a function named sum_of_numbers. It takes a number parameter and it adds all the numbers in that range.\n",
    "print(sum_of_numbers(5)) # 15\n",
    "\n",
    "print(sum_all_numbers(10)) # 55\n",
    "\n",
    "print(sum_all_numbers(100)) # 5050"
   ]
  },
  {
   "cell_type": "code",
   "execution_count": null,
   "metadata": {},
   "outputs": [],
   "source": [
    "print(sum_of_numbers(5))  \n",
    "print(sum_all_numbers(10)) \n",
    "print(sum_all_numbers(100)) \n",
    "\n",
    "def sum_of_numbers(num):\n",
    "  sum = 0\n",
    "  for i in range(num+1):\n",
    "    sum += i\n",
    "  return sum\n",
    "print(f' The sum of numbers upto 5 is {sum_of_numbers(5)}')\n"
   ]
  },
  {
   "cell_type": "markdown",
   "metadata": {},
   "source": [
    "### 14. Declare a function named sum_of_odds. It takes a number parameter and it adds all the odd numbers in that range.\n"
   ]
  },
  {
   "cell_type": "code",
   "execution_count": null,
   "metadata": {},
   "outputs": [],
   "source": [
    "def sum_of_odds(num):\n",
    "  sum = 0\n",
    "  for i in range(num+1):\n",
    "    if i % 2 ==1:\n",
    "      sum += i\n",
    "  return sum\n",
    "\n",
    "print(f'The sum of odd numbers upto 7 is {sum_of_odds(7)} ')"
   ]
  },
  {
   "cell_type": "markdown",
   "metadata": {},
   "source": [
    "### 15. Declare a function named sum_of_even. It takes a number parameter and it adds all the even numbers in that - range."
   ]
  },
  {
   "cell_type": "code",
   "execution_count": null,
   "metadata": {},
   "outputs": [],
   "source": [
    "def sum_of_evens(num):\n",
    "  sum = 0\n",
    "  for i in range(num+1):\n",
    "    if i % 2 == 0:\n",
    "      sum +=i\n",
    "  return sum\n",
    "print(f'The sum of even numbers upto 10 is {sum_of_evens(10)} ')"
   ]
  },
  {
   "cell_type": "markdown",
   "metadata": {},
   "source": [
    "# Exercises: Level 2"
   ]
  },
  {
   "cell_type": "markdown",
   "metadata": {},
   "source": [
    "### 1. Declare a function named evens_and_odds . It takes a positive integer as parameter and it counts number of evens and odds in the number.\n",
    "print(evens_and_odds(100))\n",
    "\n",
    " The number of odds are 50.\n",
    "\n",
    " The number of evens are 51."
   ]
  },
  {
   "cell_type": "code",
   "execution_count": null,
   "metadata": {},
   "outputs": [],
   "source": [
    "def evens_and_odds(int):\n",
    "  num_even = 0\n",
    "  num_odd = 0\n",
    "  for i in range(int +1):\n",
    "    if i % 2 == 0:\n",
    "      num_even += 1\n",
    "    else: \n",
    "      num_odd +=1\n",
    "  return f'The number of odd are: {num_odd} \\nThe number of even are: {num_even}'\n",
    "print(f'For 100, {evens_and_odds(100)}')"
   ]
  },
  {
   "cell_type": "markdown",
   "metadata": {},
   "source": [
    "### 2. Call your function factorial, it takes a whole number as a parameter and it return a factorial of the number\n"
   ]
  },
  {
   "cell_type": "code",
   "execution_count": null,
   "metadata": {},
   "outputs": [],
   "source": [
    "def factorial(x):\n",
    "  fact = 1\n",
    "  for i in range(1,x+1):\n",
    "    fact *= i\n",
    "  return fact\n",
    "print(f'The factorial of 6 is {factorial(6)} ')"
   ]
  },
  {
   "cell_type": "markdown",
   "metadata": {},
   "source": [
    "### 3. Call your function is_empty, it takes a parameter and it checks if it is empty or not\n"
   ]
  },
  {
   "cell_type": "code",
   "execution_count": null,
   "metadata": {},
   "outputs": [],
   "source": [
    "def is_empty(x):\n",
    "  if len(x) == 0:\n",
    "    state = 'Empty'\n",
    "  else:\n",
    "    state = 'Not empty'\n",
    "  return state\n",
    "print(is_empty(()))"
   ]
  },
  {
   "cell_type": "markdown",
   "metadata": {},
   "source": [
    "### 4. Write different functions which take lists. They should calculate_mean, calculate_median, calculate_mode, calculate_range, calculate_variance, calculate_std (standard deviation)"
   ]
  },
  {
   "cell_type": "code",
   "execution_count": null,
   "metadata": {},
   "outputs": [],
   "source": [
    "def calculate_mean(list):\n",
    "  sum = 0\n",
    "  for i in range(len(list)):\n",
    "    sum += list[i]\n",
    "  mean = sum / len(list)\n",
    "  return mean\n",
    "print(f'The mean of [1,2,3,4,5]: {calculate_mean([1,2,3,4,5])}')\n",
    "\n",
    "def calculate_median(list):\n",
    "  list_length = len(list)\n",
    "  list.sort()\n",
    "  if list_length % 2 == 0:\n",
    "    median = (list[list_length//2] + list[list_length//2 - 1])/2\n",
    "  else:\n",
    "    median = list[list_length//2]\n",
    "  return median\n",
    "\n",
    "print(f'The median of [1,2,3,4,5]: {calculate_median([1,2,3,4,5])}')\n",
    "print(f'The median of [1,2,4,3]: {calculate_median([1,4,3,2])}')\n",
    "\n",
    "def calculate_mode(list):\n",
    "  dic = {}\n",
    "  for item in list:\n",
    "      dic[item] = dic.get(item,0) + 1\n",
    "  return [i for  i,j in dic.items() if j == max(dic.values()) ]\n",
    "    \n",
    "print(f'The mode of [1,2,3,3,3,3,4,4,4,5,5,6,7,8]: {calculate_mode([1,2,3,3,3,3,4,4,4,5,5,6,7,8])}')\n",
    "\n",
    "def calculate_range(list):\n",
    "  list.sort()\n",
    "  range = list[len(list)-1] - list[0]\n",
    "  return range\n",
    "print(f'The range of [1,2,3,4,5,6,7,8,9]: {calculate_range([1,2,3,4,5,6,7,8,9])}')\n",
    "\n",
    "def calculate_variance(list):\n",
    "  sum = 0\n",
    "  sum_of_diffs = 0\n",
    "  for i in range(len(list)):\n",
    "    sum += list[i]\n",
    "  mean = sum / len(list)\n",
    "  for i in range(len(list)):\n",
    "    sum_of_diffs +=  (list[i] - mean ) ** 2\n",
    "  variance = sum_of_diffs/(len(list) - 1)\n",
    "  return variance\n",
    "\n",
    "print(f'The variance of [1,2,3,4,5,6,7,8]: {calculate_variance([1,2,3,4,5,6,7,8])}')\n",
    "\n",
    "def calculate_std(list):\n",
    "  sum = 0\n",
    "  sum_of_diffs = 0\n",
    "  for i in range(len(list)):\n",
    "    sum += list[i]\n",
    "  mean = sum / len(list)\n",
    "  for i in range(len(list)):\n",
    "    sum_of_diffs +=  ((list[i] - mean ) ** 2)\n",
    "  sd = (sum_of_diffs/(len(list)-1)) ** (1/2)\n",
    "  return sd\n",
    "\n",
    "print(f'The sd of [1,2,3,4,5,6,7,8] : {calculate_std([1,2,3,4,5,6,7,8])}')\n"
   ]
  },
  {
   "cell_type": "markdown",
   "metadata": {},
   "source": [
    "# Exercises: Level 3\n"
   ]
  },
  {
   "cell_type": "markdown",
   "metadata": {},
   "source": [
    "### 1. Write a function called is_prime, which checks if a number is prime.\n"
   ]
  },
  {
   "cell_type": "code",
   "execution_count": null,
   "metadata": {},
   "outputs": [],
   "source": [
    "def is_prime(x):\n",
    "  div = []\n",
    "  for i in range(2,x):\n",
    "     if  x % i == 0:\n",
    "       div.append(i)\n",
    "  if len(div) == 0:\n",
    "    prime = 'Prime'\n",
    "  else:\n",
    "    prime = 'Not Prime'\n",
    "  return prime\n",
    "\n",
    "print(f'20: {is_prime(20)}')"
   ]
  },
  {
   "cell_type": "markdown",
   "metadata": {},
   "source": [
    "### 2. Write a functions which checks if all items are unique in the list.\n"
   ]
  },
  {
   "cell_type": "code",
   "execution_count": null,
   "metadata": {},
   "outputs": [],
   "source": [
    "def check_unique(list):\n",
    "  if len(list) == len(set(list)):\n",
    "    result = 'All items are unique'\n",
    "  else:\n",
    "    result = 'Some items are duplicated'\n",
    "  return result\n",
    "print(f'are items in [1,2,3,4,5] unique? : {check_unique([1,2,3,4,5])}')"
   ]
  },
  {
   "cell_type": "markdown",
   "metadata": {},
   "source": [
    "### 3. Write a function which checks if all the items of the list are of the same data type.\n"
   ]
  },
  {
   "cell_type": "code",
   "execution_count": null,
   "metadata": {},
   "outputs": [],
   "source": [
    "def same_data_type(list):\n",
    "  types = []\n",
    "  for i in range(len(list)):\n",
    "    types.append(type(list[i]))\n",
    "  types_set = set(types)\n",
    "  if len(types_set) == 1:\n",
    "    data = \"All items in the list are of the same data type\"\n",
    "  else:\n",
    "    data = \"Items in the list are not of the same data type\"\n",
    "  return data\n",
    "print(same_data_type(['friends','foes']))"
   ]
  },
  {
   "cell_type": "markdown",
   "metadata": {},
   "source": [
    "### 4. Write a function which check if provided variable is a valid python variable\n"
   ]
  },
  {
   "cell_type": "code",
   "execution_count": null,
   "metadata": {},
   "outputs": [],
   "source": [
    "def is_python_variable(name):\n",
    "    if name[0] not in ['0','1','2','3','4','5','6','7','8','9'] and ' ' not in name:\n",
    "       result = 'A valid variable name'\n",
    "    else:\n",
    "      result = 'Not a valid variable name'\n",
    "    return result\n",
    "\n",
    "is_python_variable('c_m ')"
   ]
  },
  {
   "cell_type": "markdown",
   "metadata": {},
   "source": [
    "### 5. Go to the data folder and access the countries-data.py file.\n"
   ]
  },
  {
   "cell_type": "markdown",
   "metadata": {},
   "source": [
    "- Create a function called the most_spoken_languages in the world. It should return 10 or 20 most spoken languages in the world in descending order\n",
    "\n",
    "- Create a function called the most_populated_countries. It should return 10 or 20 most populated countries in descending order."
   ]
  },
  {
   "cell_type": "code",
   "execution_count": null,
   "metadata": {},
   "outputs": [],
   "source": [
    "from country_data import countries_data\n",
    "def most_spoken_languages():"
   ]
  },
  {
   "cell_type": "markdown",
   "metadata": {},
   "source": [
    "### Looping to get dict of languages"
   ]
  },
  {
   "cell_type": "code",
   "execution_count": null,
   "metadata": {},
   "outputs": [],
   "source": [
    "languages = []\n",
    "    for i in range(len(countries_data)):\n",
    "      languages.extend(countries_data[i]['languages'])\n",
    "\n",
    "    lang = {}\n",
    "    for language in languages:\n",
    "        lang[language] = lang.get(language,0) + 1\n",
    "  \n",
    "  \n",
    "    sorted_lang = sorted(lang.items(), key= lambda x:x[1],reverse=True)\n",
    "    sorted_lang "
   ]
  },
  {
   "cell_type": "markdown",
   "metadata": {},
   "source": [
    "### for the top ten, another loop"
   ]
  },
  {
   "cell_type": "code",
   "execution_count": null,
   "metadata": {},
   "outputs": [],
   "source": [
    "top_twenty = []\n",
    "    for i in range(20):\n",
    "        top_twenty.append(sorted_lang[i])\n",
    "    return top_twenty\n",
    "\n",
    "print(f'most spoken languages:  {most_spoken_languages()}')\n",
    "def most_populated_countries():\n",
    "    population = {}\n",
    "    for i in range(len(countries_data)):\n",
    "        keys = countries_data[i]['name']\n",
    "        values = countries_data[i]['population']\n",
    "        population[keys] = values\n"
   ]
  },
  {
   "cell_type": "markdown",
   "metadata": {},
   "source": [
    "### Sorting the list of the tuples to get the most spoken languages\n"
   ]
  },
  {
   "cell_type": "code",
   "execution_count": null,
   "metadata": {},
   "outputs": [],
   "source": [
    "sorted_pop = sorted(population.items(), key= lambda x:x[1],reverse=True)"
   ]
  },
  {
   "cell_type": "markdown",
   "metadata": {},
   "source": [
    "### For the top ten, another loop"
   ]
  },
  {
   "cell_type": "code",
   "execution_count": null,
   "metadata": {},
   "outputs": [],
   "source": [
    "most_pop = []\n",
    "    for i in range(10):\n",
    "        most_pop.append(sorted_pop[i][0])\n",
    "    return most_pop\n",
    "print(f'most populated countries: {most_populated_countries()}')"
   ]
  }
 ],
 "metadata": {
  "kernelspec": {
   "display_name": "KHALIPHA.venv",
   "language": "python",
   "name": "python3"
  },
  "language_info": {
   "codemirror_mode": {
    "name": "ipython",
    "version": 3
   },
   "file_extension": ".py",
   "mimetype": "text/x-python",
   "name": "python",
   "nbconvert_exporter": "python",
   "pygments_lexer": "ipython3",
   "version": "3.10.12"
  }
 },
 "nbformat": 4,
 "nbformat_minor": 2
}
