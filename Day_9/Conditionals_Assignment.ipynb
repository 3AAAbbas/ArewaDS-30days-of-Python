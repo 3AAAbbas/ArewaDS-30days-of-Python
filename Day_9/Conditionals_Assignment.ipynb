{
 "cells": [
  {
   "cell_type": "markdown",
   "metadata": {},
   "source": [
    "# **Day 9: 30 Days of python programming**"
   ]
  },
  {
   "cell_type": "markdown",
   "metadata": {},
   "source": [
    "# Exercises: Level 1"
   ]
  },
  {
   "cell_type": "markdown",
   "metadata": {},
   "source": [
    "### 1. Get user input using input(“Enter your age: ”). If user is 18 or older, give feedback:  You are old enough to drive. If below 18 give feedback to wait for the missing amount of years. Output:\n",
    "* Enter your age: 30\n",
    "* You are old enough to learn to drive.\n",
    "* Output:\n",
    "* Enter your age: 15\n",
    "* You need 3 more years to learn to drive."
   ]
  },
  {
   "cell_type": "code",
   "execution_count": null,
   "metadata": {},
   "outputs": [],
   "source": []
  },
  {
   "cell_type": "markdown",
   "metadata": {},
   "source": [
    "### 2. Compare the values of my_age and your_age using if … else. Who is older (me or you)? Use input(“Enter your age: ”) to get the age as input. You can use a nested condition to print 'year' for 1 year difference in age, 'years' for bigger differences, and a custom text if my_age = your_age. Output:\n",
    "### Enter your age: 30\n",
    "### You are 5 years older than me"
   ]
  },
  {
   "cell_type": "code",
   "execution_count": null,
   "metadata": {},
   "outputs": [],
   "source": []
  },
  {
   "cell_type": "markdown",
   "metadata": {},
   "source": [
    "### 3. Get two numbers from the user using input prompt. If a is greater than b return a is greater than b, if a is less b return a is smaller than b, else a is equal to b. Output:\n",
    "### Enter number one: 4\n",
    "### Enter number two: 3\n",
    "### 4 is greater than 3"
   ]
  },
  {
   "cell_type": "code",
   "execution_count": null,
   "metadata": {},
   "outputs": [],
   "source": []
  },
  {
   "cell_type": "markdown",
   "metadata": {},
   "source": [
    "# Exercises: Level 2"
   ]
  },
  {
   "cell_type": "markdown",
   "metadata": {},
   "source": [
    "### 1. Write a code which gives grade to students according to theirs scores:\n",
    "### 80-100, A\n",
    "### 70-89, B\n",
    "### 60-69, C\n",
    "### 50-59, D\n",
    "### 0-49, F"
   ]
  },
  {
   "cell_type": "markdown",
   "metadata": {},
   "source": [
    "### 2. Check if the season is Autumn, Winter, Spring or Summer. If the user input is: September, October or November, the season is Autumn. December, January or February, the season is Winter. March, April or May, the season is Spring June, July or August, the season is Summer"
   ]
  },
  {
   "cell_type": "code",
   "execution_count": null,
   "metadata": {},
   "outputs": [],
   "source": []
  },
  {
   "cell_type": "markdown",
   "metadata": {},
   "source": [
    "### 3. The following list contains some fruits:\n",
    "### fruits = ['banana', 'orange', 'mango', 'lemon']\n",
    "* If a fruit doesn't exist in the list add the fruit to the list and print the modified list. If the fruit exists print('That fruit already exist in the list')"
   ]
  },
  {
   "cell_type": "code",
   "execution_count": null,
   "metadata": {},
   "outputs": [],
   "source": []
  },
  {
   "cell_type": "markdown",
   "metadata": {},
   "source": [
    "# Exercises: Level 3"
   ]
  },
  {
   "cell_type": "markdown",
   "metadata": {},
   "source": [
    "### person={\n",
    "### 'first_name': 'Asabeneh',\n",
    "### 'last_name': 'Yetayeh',\n",
    "### 'age': 250,\n",
    "### 'country': 'Finland',\n",
    "### 'is_marred': True,\n",
    "### 'skills': ['JavaScript', 'React', 'Node', 'MongoDB', 'Python'],\n",
    "###  'address': {\n",
    "### 'street': 'Space street',\n",
    "### 'zipcode': '02210'\n",
    "### } }"
   ]
  },
  {
   "cell_type": "markdown",
   "metadata": {},
   "source": [
    "* Check if the person dictionary has skills key, if so print out the middle skill in the skills list.\n",
    "* Check if the person dictionary has skills key, if so check if the person has 'Python' skill and print out the result.\n",
    "* If a person skills has only JavaScript and React, print('He is a front end developer'), if the person skills has Node, Python, MongoDB,\n",
    "print('He is a backend developer'), if the person skills has React, Node and MongoDB, Print('He is a fullstack developer'), else print('unknown title') - for more accurate results more conditions can be nested!\n",
    "* If the person is married and if he lives in Finland, print the information in the following format:"
   ]
  },
  {
   "cell_type": "markdown",
   "metadata": {},
   "source": [
    "  ### Asabeneh Yetayeh lives in Finland. He is married."
   ]
  }
 ],
 "metadata": {
  "language_info": {
   "name": "python"
  }
 },
 "nbformat": 4,
 "nbformat_minor": 2
}
