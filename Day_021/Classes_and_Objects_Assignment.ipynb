{
 "cells": [
  {
   "cell_type": "markdown",
   "metadata": {},
   "source": [
    "# **Day 21: 30 Days of python programming**"
   ]
  },
  {
   "cell_type": "markdown",
   "metadata": {},
   "source": [
    "# Exercises: Level 1"
   ]
  },
  {
   "cell_type": "markdown",
   "metadata": {},
   "source": [
    "1. Python has the module called statistics and we can use this module to do all the statistical calculations. However, to learn how to make function and reuse function let us try to develop a program, which calculates the measure of central tendency of a sample (mean, median, mode) and measure of variability (range, variance, standard deviation). In addition to those measures, find the min, max, count, percentile, and frequency distribution of the sample. You can create a class called Statistics and create all the functions that do statistical calculations as methods for the Statistics class. Check the output below."
   ]
  },
  {
   "cell_type": "code",
   "execution_count": null,
   "metadata": {},
   "outputs": [],
   "source": [
    "ages = [31, 26, 34, 37, 27, 26, 32, 32, 26, 27, 27, 24, 32, 33, 27, 25, 26, 38, 37, 31, 34, 24, 33, 29, 26]\n",
    "\n",
    "print('Count:', data.count()) # 25\n",
    "print('Sum: ', data.sum()) # 744\n",
    "print('Min: ', data.min()) # 24\n",
    "print('Max: ', data.max()) # 38\n",
    "print('Range: ', data.range()) # 14\n",
    "print('Mean: ', data.mean()) # 30\n",
    "print('Median: ', data.median()) # 29\n",
    "print('Mode: ', data.mode()) # {'mode': 26, 'count': 5}\n",
    "print('Standard Deviation: ', data.std()) # 4.2\n",
    "print('Variance: ', data.var()) # 17.5\n",
    "print('Frequency Distribution: ', data.freq_dist()) # [(20.0, 26), (16.0, 27), (12.0, 32), (8.0, 37), (8.0, 34), (8.0, 33), (8.0, 31), (8.0, 24), (4.0, 38), (4.0, 29), (4.0, 25)]"
   ]
  },
  {
   "cell_type": "code",
   "execution_count": null,
   "metadata": {},
   "outputs": [],
   "source": [
    "# you output should look like this\n",
    "print(data.describe())\n",
    "Count: 25\n",
    "Sum:  744\n",
    "Min:  24\n",
    "Max:  38\n",
    "Range:  14\n",
    "Mean:  30\n",
    "Median:  29\n",
    "Mode:  (26, 5)\n",
    "Variance:  17.5\n",
    "Standard Deviation:  4.2\n",
    "Frequency Distribution: [(20.0, 26), (16.0, 27), (12.0, 32), (8.0, 37), (8.0, 34), (8.0, 33), (8.0, 31), (8.0, 24), (4.0, 38), (4.0, 29), (4.0, 25)]"
   ]
  },
  {
   "cell_type": "markdown",
   "metadata": {},
   "source": [
    "### Import Libraries and function"
   ]
  },
  {
   "cell_type": "code",
   "execution_count": 1,
   "metadata": {},
   "outputs": [],
   "source": [
    "import statistics as stats\n",
    "\n",
    "class Statistics:\n",
    "    '''Class that performs statistical calculations'''\n",
    "    def __init__(self, data):\n",
    "        '''Instantiating the class'''\n",
    "        self.data = data\n",
    "\n",
    "    def count(self):\n",
    "        '''Counts the number of entries'''\n",
    "        return len(self.data)\n",
    "\n",
    "    def sum(self):\n",
    "        '''Returns the sum the data entry'''\n",
    "        return sum(self.data)\n",
    "\n",
    "    def min(self):\n",
    "        '''Returns the minimum entry in the data'''\n",
    "        return min(self.data)\n",
    "\n",
    "    def max(self):\n",
    "        '''Returns the maximum entry in the data'''\n",
    "        return max(self.data)\n",
    "\n",
    "    def range(self):\n",
    "        '''Returns the difference between the maximum and minimum entries in the data'''\n",
    "        return self.max() - self.min()\n",
    "\n",
    "    def mean(self):\n",
    "        '''Returns the mean'''\n",
    "        return stats.mean(self.data)\n",
    "\n",
    "    def median(self):\n",
    "        '''Calculate the median'''\n",
    "        return stats.median(self.data)\n",
    "\n",
    "    def mode(self):\n",
    "        '''Returns the mode and the count of the data'''\n",
    "        mode = stats.mode(self.data)\n",
    "        count = self.data.count(mode)\n",
    "        return (mode, count)\n",
    "\n",
    "    def var(self):\n",
    "        '''Returns the variance'''\n",
    "        return stats.variance(self.data)\n",
    "\n",
    "    def std(self):\n",
    "        '''Returns the standard deviation'''\n",
    "        return stats.stdev(self.data)\n",
    "\n",
    "    def freq_dist(self):\n",
    "        frequency_dict = {}\n",
    "        for i in self.data:\n",
    "            if i in frequency_dict:\n",
    "                frequency_dict[i] += 1\n",
    "            else:\n",
    "                frequency_dict[i] = 1\n",
    "        \n",
    "        frequency_list = [(value, key) for key, value in frequency_dict.items()]\n",
    "        frequency_list.sort(reverse=True)\n",
    "        return frequency_list\n",
    "\n",
    "    def describe(self):\n",
    "        print('Count:', self.count())\n",
    "        print('Sum: ', self.sum())\n",
    "        print('Min: ', self.min())\n",
    "        print('Max: ', self.max())\n",
    "        print('Range: ', self.range())\n",
    "        print('Mean: ', self.mean())\n",
    "        print('Median: ', self.median())\n",
    "        print('Mode: ', self.mode())\n",
    "        print('Variance: ', self.var())\n",
    "        print('Standard Deviation: ', self.std())\n",
    "        print('Frequency Distribution: ', self.freq_dist())"
   ]
  },
  {
   "cell_type": "markdown",
   "metadata": {},
   "source": [
    "### Implementation"
   ]
  },
  {
   "cell_type": "code",
   "execution_count": null,
   "metadata": {},
   "outputs": [],
   "source": [
    "ages = [31, 26, 34, 37, 27, 26, 32, 32, 26, 27, 27, 24, 32, 33, 27, 25, 26, 38, 37, 31, 34, 24, 33, 29, 26]\n",
    "data = Statistics(ages)\n",
    "data.describe()"
   ]
  },
  {
   "cell_type": "markdown",
   "metadata": {},
   "source": [
    "# Exercises: Level 2"
   ]
  },
  {
   "cell_type": "markdown",
   "metadata": {},
   "source": [
    "### 2. Create a class called PersonAccount. It has firstname, lastname, incomes, expenses properties and it has total_income, total_expense, account_info, add_income, add_expense and account_balance methods. Incomes is a set of incomes and its description. The same goes for expenses"
   ]
  },
  {
   "cell_type": "code",
   "execution_count": null,
   "metadata": {},
   "outputs": [],
   "source": [
    "class PersonAccount:\n",
    "    '''A class to calculate incomes and expenses of persons'''\n",
    "    def __init__(self, firstname, lastname):\n",
    "        '''Instantiating the class'''\n",
    "        self.firstname = firstname\n",
    "        self.lastname = lastname\n",
    "\n",
    "        self.incomes = []\n",
    "        self.expenses = []\n",
    "\n",
    "    def add_income(self, amount, description):\n",
    "        '''Adds a person\\'s incomes as an entry'''\n",
    "        self.incomes.append((amount, description))\n",
    "\n",
    "    def add_expense(self, amount, description):\n",
    "        '''Adds a person\\'s expenses as an entry'''\n",
    "        self.expenses.append((amount, description))\n",
    "\n",
    "    def total_income(self):\n",
    "        '''Gives the total income of a person'''\n",
    "        total = 0\n",
    "        for income in self.incomes:\n",
    "            total += income[0]\n",
    "        return total\n",
    "\n",
    "    def total_expense(self):\n",
    "        '''Gives the total expense of a person'''\n",
    "        total = 0\n",
    "        for expense in self.expenses:\n",
    "            total += expense[0]\n",
    "        return total\n",
    "\n",
    "    def account_balance(self):\n",
    "        '''Generates the account balance of a person'''\n",
    "        return self.total_income() - self.total_expense()\n",
    "\n",
    "    def account_info(self):\n",
    "        print(\"First name: \", self.firstname)\n",
    "        print(\"Last name: \", self.lastname)\n",
    "        print(\"Incomes: \", self.incomes)\n",
    "        print(\"Expenses: \", self.expenses)\n",
    "        print(\"Total Income: \", self.total_income())\n",
    "        print(\"Total Expense: \", self.total_expense())\n",
    "        print(\"Account Balance: \", self.account_balance())\n",
    "\n",
    "\n",
    "account = PersonAccount(\"Adam\", \"Abbas Abba\")\n",
    "\n",
    "account.add_income(1000000, \"salary\")\n",
    "account.add_income(500000, \"bonus\")\n",
    "\n",
    "account.add_expense(50000, \"books\")\n",
    "account.add_expense(600000, \"fuel\")\n",
    "\n",
    "account.account_info()"
   ]
  }
 ],
 "metadata": {
  "kernelspec": {
   "display_name": "Python 3",
   "language": "python",
   "name": "python3"
  },
  "language_info": {
   "codemirror_mode": {
    "name": "ipython",
    "version": 3
   },
   "file_extension": ".py",
   "mimetype": "text/x-python",
   "name": "python",
   "nbconvert_exporter": "python",
   "pygments_lexer": "ipython3",
   "version": "3.10.12"
  }
 },
 "nbformat": 4,
 "nbformat_minor": 2
}
